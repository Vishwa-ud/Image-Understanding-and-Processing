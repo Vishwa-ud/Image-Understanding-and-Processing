{
 "cells": [
  {
   "cell_type": "code",
   "execution_count": 9,
   "id": "ed800830-85d4-4b33-a5fb-c4d67edaab5f",
   "metadata": {},
   "outputs": [
    {
     "name": "stdout",
     "output_type": "stream",
     "text": [
      "Error: Could not read the image file.\n"
     ]
    }
   ],
   "source": [
    "import cv2 as cv\n",
    "import matplotlib.pyplot as plt\n",
    "\n",
    "# Load an image from file\n",
    "image = cv.imread('image.jpg')\n",
    "\n",
    "# Check if the image is loaded successfully\n",
    "if image is None:\n",
    "    print(\"Error: Could not read the image file.\")\n",
    "else:\n",
    "    # Convert BGR to RGB (Matplotlib uses RGB)\n",
    "    image_rgb = cv.cvtColor(image, cv.COLOR_BGR2RGB)\n",
    "\n",
    "    # Display the image using Matplotlib\n",
    "    plt.imshow(image_rgb)\n",
    "    plt.axis('off')  # Hide axis labels\n",
    "    plt.title('Original Image')\n",
    "    plt.show()\n"
   ]
  },
  {
   "cell_type": "code",
   "execution_count": null,
   "id": "ee1a7865-111d-4feb-929d-d4584ca57af8",
   "metadata": {},
   "outputs": [],
   "source": []
  }
 ],
 "metadata": {
  "kernelspec": {
   "display_name": "Python 3 (ipykernel)",
   "language": "python",
   "name": "python3"
  },
  "language_info": {
   "codemirror_mode": {
    "name": "ipython",
    "version": 3
   },
   "file_extension": ".py",
   "mimetype": "text/x-python",
   "name": "python",
   "nbconvert_exporter": "python",
   "pygments_lexer": "ipython3",
   "version": "3.10.0"
  }
 },
 "nbformat": 4,
 "nbformat_minor": 5
}
