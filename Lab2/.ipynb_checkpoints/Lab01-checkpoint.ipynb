{
 "cells": [
  {
   "cell_type": "markdown",
   "id": "bde671b8-bacf-41cc-b222-a0a0dbe02079",
   "metadata": {},
   "source": [
    "### Import Libraries"
   ]
  },
  {
   "cell_type": "code",
   "execution_count": 4,
   "id": "4444c8ec-0f82-4074-9c2a-1f60c4c6782b",
   "metadata": {},
   "outputs": [],
   "source": [
    "import cv2\n",
    "import matpotlib"
   ]
  },
  {
   "cell_type": "markdown",
   "id": "e6c0bf90-e828-45d8-8c45-c4b1c04446ba",
   "metadata": {},
   "source": [
    "## Read an image"
   ]
  },
  {
   "cell_type": "code",
   "execution_count": 26,
   "id": "204451d0-6eb2-4922-82ae-051da7c865a8",
   "metadata": {},
   "outputs": [],
   "source": [
    "image = cv2.imread('D:/Education/IUP/Lab1/1.jpg',1)#path #flag\n",
    "cv2.imshow(\"Image\", image)#windowname #image\n",
    "cv2.waitKey()#show image\n",
    "cv2.destroyAllWindows()"
   ]
  },
  {
   "cell_type": "code",
   "execution_count": 27,
   "id": "754b6a07-1ab2-4ff9-bd73-315a40eb9010",
   "metadata": {},
   "outputs": [],
   "source": [
    "image = cv2.imread('D:/Education/IUP/Lab1/1.jpg',0)#path #flag\n",
    "cv2.imshow(\"Image\", image)#windowname #image\n",
    "cv2.waitKey()#show image\n",
    "cv2.destroyAllWindows()"
   ]
  },
  {
   "cell_type": "code",
   "execution_count": 28,
   "id": "b21a5233-5033-49b0-bdaa-e2dab137f054",
   "metadata": {},
   "outputs": [],
   "source": [
    "image = cv2.imread('D:/Education/IUP/Lab1/1.jpg',-1)#path #flag\n",
    "cv2.imshow(\"Image\", image)#windowname #image\n",
    "cv2.waitKey()#show image\n",
    "cv2.destroyAllWindows()"
   ]
  },
  {
   "cell_type": "code",
   "execution_count": 30,
   "id": "f0579561-719d-44ce-b936-ac7c0579d268",
   "metadata": {},
   "outputs": [],
   "source": [
    "image = cv2.imread('D:/Education/IUP/Lab1/1.jpg',cv2.IMREAD_COLOR)#path #flag\n",
    "cv2.imshow(\"Image\", image)#windowname #image\n",
    "cv2.waitKey()#show image\n",
    "cv2.destroyAllWindows()"
   ]
  },
  {
   "cell_type": "code",
   "execution_count": 31,
   "id": "4eb199e8-8753-49f2-a619-5f3f35b6adbd",
   "metadata": {},
   "outputs": [],
   "source": [
    "image = cv2.imread('D:/Education/IUP/Lab1/1.jpg',cv2.IMREAD_GRAYSCALE)#path #flag\n",
    "cv2.imshow(\"Image\", image)#windowname #image\n",
    "cv2.waitKey()#show image\n",
    "cv2.destroyAllWindows()"
   ]
  },
  {
   "cell_type": "code",
   "execution_count": 32,
   "id": "b0eb2f75-9d98-49d1-9681-df61731f38fb",
   "metadata": {},
   "outputs": [],
   "source": [
    "image = cv2.imread('D:/Education/IUP/Lab1/1.jpg',cv2.IMREAD_UNCHANGED)#path #flag\n",
    "cv2.imshow(\"Image\", image)#windowname #image\n",
    "cv2.waitKey()#show image\n",
    "cv2.destroyAllWindows()"
   ]
  },
  {
   "cell_type": "markdown",
   "id": "c2419a0f-b723-414f-9499-a1a8c49f9a9d",
   "metadata": {},
   "source": [
    "## How to save an image"
   ]
  },
  {
   "cell_type": "code",
   "execution_count": 35,
   "id": "80f61e9e-0d91-40d2-ac5e-996b9c47958f",
   "metadata": {},
   "outputs": [
    {
     "name": "stdout",
     "output_type": "stream",
     "text": [
      "Grayscale image saved successfully. True\n"
     ]
    }
   ],
   "source": [
    "# Save the grayscale image\n",
    "status = cv2.imwrite('D:/Education/IUP/Lab1/1_gray.jpg', image)  # Saves the image as '1_gray.jpg'\n",
    "print(\"Grayscale image saved successfully.\",status)"
   ]
  },
  {
   "cell_type": "markdown",
   "id": "7c0a3bd3-0c4e-4e47-93d6-6f533dd10cc7",
   "metadata": {},
   "source": [
    "## To access pixel values"
   ]
  },
  {
   "cell_type": "code",
   "execution_count": 37,
   "id": "84816c04-648e-44cf-a9db-c8f58b8b71d9",
   "metadata": {},
   "outputs": [
    {
     "name": "stdout",
     "output_type": "stream",
     "text": [
      "[ 22 208 248]\n"
     ]
    }
   ],
   "source": [
    "image = cv2.imread('1.jpg',1)\n",
    "px = image[50,100]\n",
    "print(px)#display 3 chanels"
   ]
  },
  {
   "cell_type": "markdown",
   "id": "8367ae67-6722-42c1-9d13-70a0dab2ed51",
   "metadata": {},
   "source": [
    "## Manipulate colors"
   ]
  },
  {
   "cell_type": "code",
   "execution_count": null,
   "id": "ee5e4b56-2162-498c-91c2-c9de9fdfd7fd",
   "metadata": {},
   "outputs": [],
   "source": [
    "image [50,100] = [0,0,255] #B G R\n",
    "plt.imshow(cv2.cvColor(image, cv2.COLOR))#not completed"
   ]
  },
  {
   "cell_type": "markdown",
   "id": "857cacae-4cda-4143-b2ba-325eb539d694",
   "metadata": {},
   "source": [
    "## To access image properties"
   ]
  },
  {
   "cell_type": "code",
   "execution_count": 42,
   "id": "58d0d4dc-a90b-4ee8-9f92-4a53517d82b0",
   "metadata": {},
   "outputs": [
    {
     "name": "stdout",
     "output_type": "stream",
     "text": [
      "(225, 225, 3)\n",
      "151875\n",
      "uint8\n"
     ]
    }
   ],
   "source": [
    "image = cv2.imread('1.jpg',1)\n",
    "print(image.shape)#size #channels\n",
    "print(image.size)#access pixel values\n",
    "print(image.dtype)"
   ]
  },
  {
   "cell_type": "code",
   "execution_count": null,
   "id": "2be1bb7d-cfeb-4f8c-af84-6f2b38fe7b28",
   "metadata": {},
   "outputs": [],
   "source": []
  }
 ],
 "metadata": {
  "kernelspec": {
   "display_name": "Python 3 (ipykernel)",
   "language": "python",
   "name": "python3"
  },
  "language_info": {
   "codemirror_mode": {
    "name": "ipython",
    "version": 3
   },
   "file_extension": ".py",
   "mimetype": "text/x-python",
   "name": "python",
   "nbconvert_exporter": "python",
   "pygments_lexer": "ipython3",
   "version": "3.10.0"
  }
 },
 "nbformat": 4,
 "nbformat_minor": 5
}
