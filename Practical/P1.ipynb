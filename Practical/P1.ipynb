{
 "cells": [
  {
   "cell_type": "markdown",
   "id": "3f7203f1-d19e-4c8e-999c-a2d8a60105e1",
   "metadata": {},
   "source": [
    "## Import Libraries"
   ]
  },
  {
   "cell_type": "code",
   "execution_count": 1,
   "id": "9570d83f-4fd6-429b-b28a-43fdad511712",
   "metadata": {},
   "outputs": [],
   "source": [
    "import cv2\n",
    "import matplotlib\n",
    "import matplotlib.pyplot as plt"
   ]
  },
  {
   "cell_type": "code",
   "execution_count": 2,
   "id": "92acbf49-1f4c-4b27-8170-191c822194cd",
   "metadata": {},
   "outputs": [],
   "source": [
    "## Read an image"
   ]
  },
  {
   "cell_type": "code",
   "execution_count": 3,
   "id": "ff1f650e-2a78-4253-b716-15a6c00df2df",
   "metadata": {},
   "outputs": [],
   "source": [
    "image = cv2.imread('D:/Education/Image-Understanding-and-Processing/Lab1/1.jpg',1)#path #flag\n",
    "cv2.imshow(\"Image\", image)#windowname #image\n",
    "cv2.waitKey()#show image\n",
    "cv2.destroyAllWindows()"
   ]
  },
  {
   "cell_type": "code",
   "execution_count": null,
   "id": "ff4a139c-0847-4557-bc42-498d6d4097f1",
   "metadata": {},
   "outputs": [],
   "source": []
  }
 ],
 "metadata": {
  "kernelspec": {
   "display_name": "Python 3 (ipykernel)",
   "language": "python",
   "name": "python3"
  },
  "language_info": {
   "codemirror_mode": {
    "name": "ipython",
    "version": 3
   },
   "file_extension": ".py",
   "mimetype": "text/x-python",
   "name": "python",
   "nbconvert_exporter": "python",
   "pygments_lexer": "ipython3",
   "version": "3.10.0"
  }
 },
 "nbformat": 4,
 "nbformat_minor": 5
}
