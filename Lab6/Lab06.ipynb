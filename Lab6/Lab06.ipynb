{
 "cells": [
  {
   "cell_type": "markdown",
   "id": "33a38771-5902-4a74-a1bb-dcc866074b96",
   "metadata": {},
   "source": [
    "# Understand kernl/windows/filters"
   ]
  },
  {
   "cell_type": "code",
   "execution_count": 24,
   "id": "79655229-3dc5-48e6-8f25-4a39715d451c",
   "metadata": {},
   "outputs": [
    {
     "name": "stdout",
     "output_type": "stream",
     "text": [
      "[[0.11111111 0.11111111 0.11111111]\n",
      " [0.11111111 0.11111111 0.11111111]\n",
      " [0.11111111 0.11111111 0.11111111]]\n"
     ]
    }
   ],
   "source": [
    "import cv2\n",
    "import numpy as np\n",
    "\n",
    "kernel = np.ones((3,3),np.float32)/9\n",
    "print(kernel)\n",
    "dst = cv2.filter2D(img,-1,kernel)#src , depth , kernal"
   ]
  },
  {
   "cell_type": "markdown",
   "id": "3d580ee5-72ef-42ca-933f-65a0d0364d08",
   "metadata": {},
   "source": [
    "# 1. Image filtering using 2D convolution "
   ]
  },
  {
   "cell_type": "code",
   "execution_count": 9,
   "id": "47ad0ec0-c4a5-4aac-93a2-2c491a6c0498",
   "metadata": {},
   "outputs": [
    {
     "name": "stdout",
     "output_type": "stream",
     "text": [
      "[[0.04 0.04 0.04 0.04 0.04]\n",
      " [0.04 0.04 0.04 0.04 0.04]\n",
      " [0.04 0.04 0.04 0.04 0.04]\n",
      " [0.04 0.04 0.04 0.04 0.04]\n",
      " [0.04 0.04 0.04 0.04 0.04]]\n"
     ]
    },
    {
     "data": {
      "text/plain": [
       "-1"
      ]
     },
     "execution_count": 9,
     "metadata": {},
     "output_type": "execute_result"
    }
   ],
   "source": [
    "import cv2\n",
    "import numpy as np\n",
    "import matplotlib. pyplot as pit\n",
    "\n",
    "#Load the image here\n",
    "img = cv2.imread('D:\\\\Education\\\\IUP\\\\Lab6\\\\saltandpepper1.png.' , 1)\n",
    "\n",
    "kernel = np.ones((5,5),np.float32)/25\n",
    "print(kernel)\n",
    "dst = cv2.filter2D(img,-1,kernel)#src , depth (unchanged original img -> -1 ) , kernal\n",
    "\n",
    "result = np.hstack((img,dst))\n",
    "cv2.imshow('result',result)\n",
    "\n",
    "cv2.waitKey(0)"
   ]
  },
  {
   "cell_type": "markdown",
   "id": "0c61b195-2d23-45f2-bafb-a629fcd9b0b4",
   "metadata": {},
   "source": [
    "# 2. Image Averaging using Box Filter"
   ]
  },
  {
   "cell_type": "code",
   "execution_count": 20,
   "id": "c8a08476-ad67-4f40-8d2d-cd318299ce5a",
   "metadata": {},
   "outputs": [
    {
     "data": {
      "text/plain": [
       "-1"
      ]
     },
     "execution_count": 20,
     "metadata": {},
     "output_type": "execute_result"
    }
   ],
   "source": [
    "#Load the image here\n",
    "img1 = cv2.imread('D:\\\\Education\\\\IUP\\\\Lab6\\\\saltandpepper1.png.' , 1)\n",
    "\n",
    "blur = cv2.blur(img1,(5,5) )#src , ksize\n",
    "\n",
    "result = np.hstack((img1,blur))\n",
    "cv2.imshow('result',result)\n",
    "\n",
    "cv2.waitKey(0)"
   ]
  },
  {
   "cell_type": "code",
   "execution_count": 27,
   "id": "7201c1bf-befd-4111-8bbf-50a0252239f2",
   "metadata": {},
   "outputs": [
    {
     "data": {
      "text/plain": [
       "-1"
      ]
     },
     "execution_count": 27,
     "metadata": {},
     "output_type": "execute_result"
    }
   ],
   "source": [
    "#Load the image here\n",
    "img2 = cv2.imread('D:\\\\Education\\\\IUP\\\\Lab6\\\\saltandpepper2.png' , 1)\n",
    "\n",
    "box = cv2.boxFilter(img2,-1, (5,5) )#src , depth , ksize\n",
    "\n",
    "result = np.hstack((img2,box))\n",
    "cv2.imshow('result',result)\n",
    "\n",
    "cv2.waitKey(0)"
   ]
  },
  {
   "cell_type": "markdown",
   "id": "931c0e5e-c822-409e-86cc-fd5917aa69e8",
   "metadata": {},
   "source": [
    "# 3. Median Filtering and Gaussian Filtering "
   ]
  },
  {
   "cell_type": "code",
   "execution_count": 28,
   "id": "ac42f735-a46e-4f51-ad30-9c54132b4971",
   "metadata": {},
   "outputs": [
    {
     "data": {
      "text/plain": [
       "-1"
      ]
     },
     "execution_count": 28,
     "metadata": {},
     "output_type": "execute_result"
    }
   ],
   "source": [
    "#Load the image here\n",
    "img3 = cv2.imread('D:\\\\Education\\\\IUP\\\\Lab6\\\\saltandpepper2.png' , 1)\n",
    "\n",
    "median = cv2.medianBlur(img3,3)\n",
    "\n",
    "result = np.hstack((img3,median))\n",
    "cv2.imshow('result',result)\n",
    "\n",
    "cv2.waitKey(0)"
   ]
  },
  {
   "cell_type": "code",
   "execution_count": 32,
   "id": "34aed0f3-1dff-4844-9264-95aa829d010d",
   "metadata": {},
   "outputs": [
    {
     "data": {
      "text/plain": [
       "-1"
      ]
     },
     "execution_count": 32,
     "metadata": {},
     "output_type": "execute_result"
    }
   ],
   "source": [
    "#Load the image here\n",
    "img4 = cv2.imread('D:\\\\Education\\\\IUP\\\\Lab6\\\\gaussian Noise.png' , 1)\n",
    "\n",
    "gaussian = cv2.GaussianBlur(img4, (11,11),0)#src , ksize (kernel) , standered dwviation sigmax\n",
    "result = np.hstack((img4,gaussian))\n",
    "cv2.imshow('result',result)\n",
    "\n",
    "cv2.waitKey(0)"
   ]
  },
  {
   "cell_type": "markdown",
   "id": "ab5ef7e6-6625-4509-8268-f562ae1c5035",
   "metadata": {},
   "source": [
    "# 4. Application of image blurring"
   ]
  },
  {
   "cell_type": "code",
   "execution_count": null,
   "id": "6eaf47dd-d54c-4257-b23c-6c3c130bb76d",
   "metadata": {},
   "outputs": [],
   "source": [
    "import cv2\n",
    "import numpy as np\n",
    "import matplotlib.pyplot as plt\n",
    "#Load the image here\n",
    "img5 = cv2.imread('D:\\\\Education\\\\IUP\\\\Lab6\\\\hubble.png' , 1)\n",
    "\n",
    "#Create custom kernaL of size 15x15 and apply to the input image\n",
    "kernel = np.ones((15,15), np.float32) / 225 \n",
    "print(kernel)\n",
    "dst = cv2.filter2D(img5, -1, kernel)\n",
    "\n",
    "#AppLy thresholding operator to highlight the largest object\n",
    "ret, thresh = cv2.threshold(dst, 100, 255, cv2.THRESH_BINARY)\n",
    "\n",
    "result = np.hstack((img5,dst,thresh))\n",
    "cv2 .imshow('result' ,result)\n",
    "cv2 .waitKey(0)"
   ]
  },
  {
   "cell_type": "code",
   "execution_count": null,
   "id": "f2caa16e-c0ff-48f5-b356-75b9aab8a8c4",
   "metadata": {},
   "outputs": [],
   "source": []
  }
 ],
 "metadata": {
  "kernelspec": {
   "display_name": "Python 3 (ipykernel)",
   "language": "python",
   "name": "python3"
  },
  "language_info": {
   "codemirror_mode": {
    "name": "ipython",
    "version": 3
   },
   "file_extension": ".py",
   "mimetype": "text/x-python",
   "name": "python",
   "nbconvert_exporter": "python",
   "pygments_lexer": "ipython3",
   "version": "3.10.0"
  }
 },
 "nbformat": 4,
 "nbformat_minor": 5
}
